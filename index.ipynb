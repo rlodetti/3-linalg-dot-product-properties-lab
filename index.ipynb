{
 "cells": [
  {
   "cell_type": "markdown",
   "metadata": {},
   "source": [
    "# Properties of Dot Product - Lab\n",
    "\n",
    "## Introduction\n",
    "\n",
    "In this lab, you'll be practicing some interesting properties of a dot product-type matrix multiplication. Understanding these properties will become useful as you study machine learning. The lab will require you to calculate results to provide a proof for these properties.\n",
    "\n",
    "## Objectives\n",
    "\n",
    "In this lab you will: \n",
    "\n",
    "- Demonstrate the distributive, commutative, and associative property of dot products \n",
    "- Use the transpose method to transpose Numpy matrices \n",
    "- Compute the dot product for matrices and vectors \n",
    "\n",
    "\n",
    "## Instructions\n",
    "\n",
    "* For each property, create suitably sized matrices with random data to prove the equations \n",
    "* Ensure that size/dimension assumptions are met while performing calculations (you'll see errors otherwise)\n",
    "* Calculate the LHS and RHS for all equations and show if they are equal or not"
   ]
  },
  {
   "cell_type": "code",
   "execution_count": 31,
   "metadata": {
    "ExecuteTime": {
     "end_time": "2023-07-16T01:06:48.234577Z",
     "start_time": "2023-07-16T01:06:48.226244Z"
    }
   },
   "outputs": [],
   "source": [
    "import numpy as np\n",
    "\n",
    "\n",
    "def rand_array(num_rows, num_cols):\n",
    "    rd_arr = np.zeros((num_rows, num_cols))\n",
    "    for num in range(num_rows * num_cols):\n",
    "        i = num % num_rows\n",
    "        j = num // num_rows\n",
    "        rd_arr[i, j] = np.random.randint(1, 100)\n",
    "    return rd_arr"
   ]
  },
  {
   "cell_type": "markdown",
   "metadata": {
    "code_folding": []
   },
   "source": [
    "## Distributive Property - matrix multiplication IS distributive\n",
    "\n",
    "### Prove that $A \\cdot (B+C) = (A \\cdot B + A \\cdot C) $"
   ]
  },
  {
   "cell_type": "code",
   "execution_count": 47,
   "metadata": {
    "ExecuteTime": {
     "end_time": "2023-07-16T01:18:53.312551Z",
     "start_time": "2023-07-16T01:18:53.302786Z"
    }
   },
   "outputs": [
    {
     "name": "stdout",
     "output_type": "stream",
     "text": [
      "shape of A: (3, 6)\n",
      "shape of B: (6, 45)\n",
      "shape of C: (6, 45)\n",
      "True\n"
     ]
    }
   ],
   "source": [
    "a = np.random.randint(1, 100)\n",
    "b = np.random.randint(1, 100)\n",
    "c = np.random.randint(1, 100)\n",
    "\n",
    "A = rand_array(a, b)\n",
    "B = rand_array(b, c)\n",
    "C = rand_array(b, c)\n",
    "\n",
    "print(f'shape of A: {A.shape}')\n",
    "print(f'shape of B: {B.shape}')\n",
    "print(f'shape of C: {C.shape}')\n",
    "LHS = A @ (B + C)\n",
    "RHS = (A @ B + A @ C)\n",
    "\n",
    "print(np.array_equiv(LHS, RHS))"
   ]
  },
  {
   "cell_type": "markdown",
   "metadata": {},
   "source": [
    "## Associative Property - matrix multiplication IS associative\n",
    "### Prove that $A \\cdot (B \\cdot C) = (A \\cdot B) \\cdot C $"
   ]
  },
  {
   "cell_type": "code",
   "execution_count": 53,
   "metadata": {
    "ExecuteTime": {
     "end_time": "2023-07-16T01:20:22.198835Z",
     "start_time": "2023-07-16T01:20:22.151452Z"
    }
   },
   "outputs": [
    {
     "name": "stdout",
     "output_type": "stream",
     "text": [
      "shape of A: (35, 83)\n",
      "shape of B: (83, 52)\n",
      "shape of C: (52, 45)\n",
      "True\n"
     ]
    }
   ],
   "source": [
    "a = np.random.randint(1, 100)\n",
    "b = np.random.randint(1, 100)\n",
    "c = np.random.randint(1, 100)\n",
    "d = np.random.randint(1, 100)\n",
    "\n",
    "A = rand_array(a, b)\n",
    "B = rand_array(b, c)\n",
    "C = rand_array(c, d)\n",
    "\n",
    "print(f'shape of A: {A.shape}')\n",
    "print(f'shape of B: {B.shape}')\n",
    "print(f'shape of C: {C.shape}')\n",
    "LHS = A @ (B @ C)\n",
    "RHS = (A @ B) @ C\n",
    "\n",
    "print(np.array_equiv(LHS, RHS))"
   ]
  },
  {
   "cell_type": "markdown",
   "metadata": {},
   "source": [
    "## Commutative Property - matrix multiplication is NOT commutative\n",
    "### Prove that for matrices, $A \\cdot B \\neq B \\cdot A $"
   ]
  },
  {
   "cell_type": "code",
   "execution_count": 75,
   "metadata": {
    "ExecuteTime": {
     "end_time": "2023-07-16T01:22:21.065470Z",
     "start_time": "2023-07-16T01:22:21.047341Z"
    }
   },
   "outputs": [
    {
     "name": "stdout",
     "output_type": "stream",
     "text": [
      "shape of A: (36, 36)\n",
      "shape of B: (36, 36)\n",
      "False\n"
     ]
    }
   ],
   "source": [
    "a = np.random.randint(1, 100)\n",
    "\n",
    "A = rand_array(a, a)\n",
    "B = rand_array(a, a)\n",
    "\n",
    "print(f'shape of A: {A.shape}')\n",
    "print(f'shape of B: {B.shape}')\n",
    "LHS = A @ B\n",
    "RHS = B @ A\n",
    "\n",
    "print(np.array_equiv(LHS, RHS))"
   ]
  },
  {
   "cell_type": "markdown",
   "metadata": {},
   "source": [
    "## Commutative Property -  vector multiplication IS commutative\n",
    "### Prove that for vectors,  $x^T \\cdot y = y^T \\cdot x$\n",
    "Note: superscipt<sup>T</sup> denotes the transpose we saw earlier"
   ]
  },
  {
   "cell_type": "code",
   "execution_count": 78,
   "metadata": {
    "ExecuteTime": {
     "end_time": "2023-07-16T01:27:30.090894Z",
     "start_time": "2023-07-16T01:27:30.083980Z"
    }
   },
   "outputs": [
    {
     "name": "stdout",
     "output_type": "stream",
     "text": [
      "shape of xt: (1, 9)\n",
      "shape of y: (9, 1)\n",
      "shape of x: (9, 1)\n",
      "shape of yt: (1, 9)\n",
      "True\n"
     ]
    }
   ],
   "source": [
    "a = np.random.randint(1, 100)\n",
    "b = np.random.randint(1, 100)\n",
    "\n",
    "x = rand_array(a, 1)\n",
    "y = rand_array(a, 1)\n",
    "xt = x.T\n",
    "yt = y.T\n",
    "\n",
    "print(f'shape of xt: {xt.shape}')\n",
    "print(f'shape of y: {y.shape}')\n",
    "print(f'shape of x: {x.shape}')\n",
    "print(f'shape of yt: {yt.shape}')\n",
    "LHS = xt @ y\n",
    "RHS = yt @ x\n",
    "\n",
    "print(np.array_equiv(LHS, RHS))"
   ]
  },
  {
   "cell_type": "markdown",
   "metadata": {},
   "source": [
    "## Simplification of the matrix product\n",
    "### Prove that $ (A \\cdot B)^T = B^T \\cdot A^T $"
   ]
  },
  {
   "cell_type": "code",
   "execution_count": 82,
   "metadata": {
    "ExecuteTime": {
     "end_time": "2023-07-16T01:31:07.267196Z",
     "start_time": "2023-07-16T01:31:07.253469Z"
    }
   },
   "outputs": [
    {
     "name": "stdout",
     "output_type": "stream",
     "text": [
      "shape of A: (42, 12)\n",
      "shape of B: (12, 54)\n",
      "shape of At: (12, 42)\n",
      "shape of Bt: (54, 12)\n",
      "True\n"
     ]
    }
   ],
   "source": [
    "a = np.random.randint(1, 100)\n",
    "b = np.random.randint(1, 100)\n",
    "c = np.random.randint(1, 100)\n",
    "\n",
    "A = rand_array(a, b)\n",
    "B = rand_array(b, c)\n",
    "At = A.T\n",
    "Bt = B.T\n",
    "\n",
    "print(f'shape of A: {A.shape}')\n",
    "print(f'shape of B: {B.shape}')\n",
    "print(f'shape of At: {At.shape}')\n",
    "print(f'shape of Bt: {Bt.shape}')\n",
    "LHS = (A @ B).T\n",
    "RHS = Bt @ At\n",
    "\n",
    "print(np.array_equiv(LHS, RHS))"
   ]
  },
  {
   "cell_type": "markdown",
   "metadata": {},
   "source": [
    "## Summary \n",
    "\n",
    "You've seen enough matrix algebra by now to solve a problem of linear equations as you saw earlier. You'll now see how to do this next. "
   ]
  }
 ],
 "metadata": {
  "kernelspec": {
   "display_name": "Python 3",
   "language": "python",
   "name": "python3"
  },
  "language_info": {
   "codemirror_mode": {
    "name": "ipython",
    "version": 3
   },
   "file_extension": ".py",
   "mimetype": "text/x-python",
   "name": "python",
   "nbconvert_exporter": "python",
   "pygments_lexer": "ipython3",
   "version": "3.8.5"
  }
 },
 "nbformat": 4,
 "nbformat_minor": 2
}
